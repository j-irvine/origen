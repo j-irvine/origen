{
 "cells": [
  {
   "cell_type": "markdown",
   "metadata": {},
   "source": [
    "# OriGen Basic Usage Examples\n",
    "\n",
    "This notebook demonstrates how to use OriGen to generate plasmid replicon sequences. We'll cover:\n",
    "1. Loading a pre-trained model\n",
    "2. Generating new replicon sequences\n",
    "3. Analyzing sequence similarity\n",
    "\n",
    "First, let's import the required packages:"
   ]
  },
  {
   "cell_type": "code",
   "execution_count": null,
   "metadata": {},
   "outputs": [],
   "source": [
    "import torch\n",
    "import os \n",
    "\n",
    "from transformers import AutoModelForCausalLM, AutoTokenizer\n",
    "from origen.generate import generate_sequences\n",
    "from origen.alignment import compute_sequence_similarity\n",
    "from origen.random_mutants import generate_matched_random_mutant\n",
    "from origen.tokenizers import extract_oriv\n",
    "\n",
    "os.environ[\"TOKENIZERS_PARALLELISM\"] = \"false\""
   ]
  },
  {
   "cell_type": "markdown",
   "metadata": {},
   "source": [
    "## Loading a Pre-trained Model\n",
    "\n",
    "OriGen models are available on the HuggingFace Hub. Here's how to load a pre-trained model:"
   ]
  },
  {
   "cell_type": "code",
   "execution_count": null,
   "metadata": {},
   "outputs": [],
   "source": [
    "# Load tokenizer and model from HuggingFace\n",
    "model_name = \"jirvine/origen-model\"\n",
    "tokenizer = AutoTokenizer.from_pretrained(model_name)\n",
    "model = AutoModelForCausalLM.from_pretrained(model_name)\n",
    "\n",
    "# Move model to GPU if available\n",
    "device = torch.device(\"cuda\" if torch.cuda.is_available() else \"cpu\")\n",
    "model = model.to(device)"
   ]
  },
  {
   "cell_type": "markdown",
   "metadata": {},
   "source": [
    "## Generating New Sequences\n",
    "\n",
    "You can generate sequences in three ways:\n",
    "1. Unprompted generation\n",
    "2. Host-specific generation\n",
    "3. Rep-specific generation\n",
    "\n",
    "### Unprompted Generation\n",
    "\n",
    "First, let's generate some sequences without any conditioning:"
   ]
  },
  {
   "cell_type": "code",
   "execution_count": null,
   "metadata": {},
   "outputs": [],
   "source": [
    "# Generate sequences with no conditioning\n",
    "torch.manual_seed(1)\n",
    "sequences = generate_sequences(\n",
    "    model=model,\n",
    "    tokenizer=tokenizer,\n",
    "    num_sequences=5,\n",
    "    max_length=1000,\n",
    "    temperature=1.0,\n",
    "    top_p=0.95,\n",
    "    device=device\n",
    ")\n",
    "\n",
    "print(f\"Generated {len(sequences)} sequences\")\n",
    "print(f\"\\nExample sequence:\\n{sequences[0]}\")"
   ]
  },
  {
   "cell_type": "markdown",
   "metadata": {},
   "source": [
    "### Host-specific Generation\n",
    "\n",
    "To generate sequences for a specific bacterial host, include the species name in square brackets as a prompt:"
   ]
  },
  {
   "cell_type": "code",
   "execution_count": null,
   "metadata": {},
   "outputs": [],
   "source": [
    "# Generate E. coli specific sequences\n",
    "torch.manual_seed(1)\n",
    "host_replicon_sequences = generate_sequences(\n",
    "    model=model,\n",
    "    tokenizer=tokenizer,\n",
    "    num_sequences=5,\n",
    "    prompt=\"[Escherichia coli]\",  # Note the square brackets\n",
    "    max_length=1000,\n",
    "    temperature=1.0,\n",
    "    top_k=4,\n",
    "    device=device\n",
    ")\n",
    "\n",
    "print(f\"Generated {len(host_replicon_sequences)} E. coli sequences\")\n",
    "print(f\"\\nExample sequence:\\n{host_replicon_sequences[0]}\")"
   ]
  },
  {
   "cell_type": "markdown",
   "metadata": {},
   "source": [
    "### Rep-specific Generation\n",
    "\n",
    "To generate origins compatible with a specific Rep protein, include both the host species and Rep protein sequence in the prompt:"
   ]
  },
  {
   "cell_type": "code",
   "execution_count": null,
   "metadata": {},
   "outputs": [],
   "source": [
    "# Example Rep3 protein sequence from the paper\n",
    "rep3_protein_sequence = \"MTSNPLIAYKSNALVEASYKLTLQEQRFLLLCISRLNSGTDVASPELQKTMTITAAEYFDSFPDMGRKNAEVQLQEAIDRLWDRSIILKDDEKREEFRWIQYRAQYARGEGKAQITFSDAVMPYLTQLKGQFTRVVIKNISNLSRSYSIRIYEILQQFRSTGERIIALDDFKSSLMLDGKYKDFKTLNRDLIKPCVDELNKKSDLAVTVETIKKGRTVVALHFRFKEDKQIKMTI\"\n",
    "prompt = f\"[Escherichia coli]{rep3_protein_sequence}\"\n",
    "\n",
    "# Generate full sequences compatible with this Rep\n",
    "torch.manual_seed(1)\n",
    "rep3_replicon_sequences = generate_sequences(\n",
    "    model=model,\n",
    "    tokenizer=tokenizer,\n",
    "    num_sequences=5,\n",
    "    prompt=prompt,\n",
    "    max_length=1000,\n",
    "    temperature=1.0,\n",
    "    top_k=4,\n",
    "    device=device\n",
    ")\n",
    "rep3_oriv_sequences = [extract_oriv(seq) for seq in rep3_replicon_sequences]\n",
    "\n",
    "print(f\"Generated {len(rep3_oriv_sequences)} oriv sequences for Rep3\")\n",
    "print(f\"\\nExample sequence:\\n{rep3_oriv_sequences[0]}\")"
   ]
  },
  {
   "cell_type": "markdown",
   "metadata": {},
   "source": [
    "### Partial Sequence Generation\n",
    "\n",
    "You can also generate completions from a partial sequence. This is useful for exploring variations of known origins:"
   ]
  },
  {
   "cell_type": "code",
   "execution_count": null,
   "metadata": {},
   "outputs": [],
   "source": [
    "# Generate variations of a ColE1-type origin\n",
    "cole1_seed_sequence = \"aggatcttcttgagatccca\"\n",
    "\n",
    "torch.manual_seed(1)\n",
    "cole1_replicon_sequences = generate_sequences(\n",
    "    model=model,\n",
    "    tokenizer=tokenizer,\n",
    "    num_sequences=5,\n",
    "    prompt=f\"[Escherichia coli]{cole1_seed_sequence}\",\n",
    "    max_length=1000,\n",
    "    temperature=1.0,\n",
    "    top_k=4,\n",
    "    device=device\n",
    ")\n",
    "cole1_oriv_sequences = [extract_oriv(seq) for seq in cole1_replicon_sequences]\n",
    "\n",
    "print(f\"Generated {len(cole1_oriv_sequences)} ColE1 orivs\")\n",
    "print(f\"\\nExample oriv:\\n{cole1_oriv_sequences[0]}\")"
   ]
  },
  {
   "cell_type": "markdown",
   "metadata": {},
   "source": [
    "## Analyzing Sequence Similarity\n",
    "\n",
    "To analyze how novel your generated sequences are, you can compare them to known wild-type sequences using global alignment:"
   ]
  },
  {
   "cell_type": "code",
   "execution_count": null,
   "metadata": {},
   "outputs": [],
   "source": [
    "# Example wild-type ColE1 sequence\n",
    "wild_type = \"AGGATCTTCTTGAGATCCCATTTGGATCGTCGTAATCTCTTGCTCTGTAAACGAAAAAACCGCCTTGGCGGGCGGTTTTTTCGAAGGTTCGAGGAGTTGGCGCTCTTTGAACCGAGGTAACTGGCTTGGAGGAGCGCAGTAACCAAATTCGTTCTTTCAGTTTAGCCTTAACTGGCACATAACTTCAAGACTAACTCCTCTAAATCAGTTACCAGTGGCTGCTGCCAGTGGCGCTTTTGCATGCCTTTCCGGGTTGGACTCAAGATGACAGTTACCGGATAAGGCGCAGCAGTCGGACTGAACGGGGGGTTCGTGCATACAGTCCAGCTTGGAGCGAACTGCCTACCCGGAACTGAGTGTCAGGCGTGGAATGAGACAAACGCGGCCATAACAGCGGAATGACACCGGTAAACCGAATGGCAGGAACAGGAGAGCGCACGAGGGAGCCATCAGGGGGAAACGCCTGGTATCTTTATAGTCCTGTCGGGGTTCGCCACCACTGATTTGAGCGTCAAATTCTGTGATGCTTGTCAGGGGGGCGGAGCCTATGGAAAAACGGCCGCTGGGCGGCCTCCTCTTTTCCGCCTCCCTTGCTCGCTCGGTTTTCTCGAGCTTTTATAAGAACGGTCTTGCCGCTCGCCGCAGCCGAACGACCGGAGCGTAGCGACTGAGTGAGCGAGGAAGCGGAAAAGAGACTGGTTTGACACTGAGCACTGACGCTCTGAGGCCTCTT\""
   ]
  },
  {
   "cell_type": "code",
   "execution_count": null,
   "metadata": {},
   "outputs": [],
   "source": [
    "# Filter to sequences with similar length to wild-type example (similarity metric is less meaningful with mismatched lengths)\n",
    "wt_seq_len = len(wild_type)\n",
    "cole1_oriv_sequences_filtered = [seq for seq in cole1_oriv_sequences if wt_seq_len - 20 <= len(seq) <= wt_seq_len + 20]"
   ]
  },
  {
   "cell_type": "code",
   "execution_count": null,
   "metadata": {},
   "outputs": [],
   "source": [
    "# Calculate similarity to wild-type\n",
    "for i, seq in enumerate(cole1_oriv_sequences_complete):\n",
    "    similarity = compute_sequence_similarity(seq.upper(), wild_type)\n",
    "    print(f\"Generation {i+1} similarity to wild-type: {100 * similarity:.1f}%\")\n",
    "\n",
    "# Create matched random mutants as controls\n",
    "print()\n",
    "for i, seq in enumerate(cole1_oriv_sequences_complete):\n",
    "    random_mutant = generate_matched_random_mutant(seq.upper(), wild_type)\n",
    "    similarity = compute_sequence_similarity(random_mutant, wild_type)\n",
    "    print(f\"Random mutant {i+1} similarity to wild-type: {100 * similarity:.1f}%\")"
   ]
  },
  {
   "cell_type": "code",
   "execution_count": null,
   "metadata": {},
   "outputs": [],
   "source": []
  }
 ],
 "metadata": {
  "kernelspec": {
   "display_name": "Python 3 (ipykernel)",
   "language": "python",
   "name": "python3"
  },
  "language_info": {
   "codemirror_mode": {
    "name": "ipython",
    "version": 3
   },
   "file_extension": ".py",
   "mimetype": "text/x-python",
   "name": "python",
   "nbconvert_exporter": "python",
   "pygments_lexer": "ipython3",
   "version": "3.12.3"
  }
 },
 "nbformat": 4,
 "nbformat_minor": 4
}
